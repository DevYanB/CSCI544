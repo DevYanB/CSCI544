{
 "cells": [
  {
   "cell_type": "markdown",
   "metadata": {},
   "source": [
    "# DEVYAN BISWAS REPORT\n",
    "---\n",
    "Some notes:\n",
    "- Python version is 3.7.5"
   ]
  },
  {
   "cell_type": "code",
   "execution_count": 48,
   "metadata": {},
   "outputs": [],
   "source": [
    "import warnings\n",
    "warnings.filterwarnings('ignore')"
   ]
  },
  {
   "cell_type": "code",
   "execution_count": 49,
   "metadata": {},
   "outputs": [
    {
     "name": "stdout",
     "output_type": "stream",
     "text": [
      "Requirement already satisfied: bs4 in /Users/devyanbiswas/Desktop/CSCI544/Homeworks/544/lib/python3.7/site-packages (0.0.1)\n",
      "Requirement already satisfied: beautifulsoup4 in /Users/devyanbiswas/Desktop/CSCI544/Homeworks/544/lib/python3.7/site-packages (from bs4) (4.11.1)\n",
      "Requirement already satisfied: soupsieve>1.2 in /Users/devyanbiswas/Desktop/CSCI544/Homeworks/544/lib/python3.7/site-packages (from beautifulsoup4->bs4) (2.3.2.post1)\n",
      "\u001b[33mWARNING: You are using pip version 19.2.3, however version 22.2.2 is available.\n",
      "You should consider upgrading via the 'pip install --upgrade pip' command.\u001b[0m\n",
      "Requirement already satisfied: contractions in /Users/devyanbiswas/Desktop/CSCI544/Homeworks/544/lib/python3.7/site-packages (0.1.72)\n",
      "Requirement already satisfied: textsearch>=0.0.21 in /Users/devyanbiswas/Desktop/CSCI544/Homeworks/544/lib/python3.7/site-packages (from contractions) (0.0.21)\n",
      "Requirement already satisfied: pyahocorasick in /Users/devyanbiswas/Desktop/CSCI544/Homeworks/544/lib/python3.7/site-packages (from textsearch>=0.0.21->contractions) (1.4.4)\n",
      "Requirement already satisfied: anyascii in /Users/devyanbiswas/Desktop/CSCI544/Homeworks/544/lib/python3.7/site-packages (from textsearch>=0.0.21->contractions) (0.3.1)\n",
      "\u001b[33mWARNING: You are using pip version 19.2.3, however version 22.2.2 is available.\n",
      "You should consider upgrading via the 'pip install --upgrade pip' command.\u001b[0m\n"
     ]
    }
   ],
   "source": [
    "! pip install bs4 # in case you don't have it installed\n",
    "! pip install contractions\n",
    "\n",
    "# Dataset: https://s3.amazonaws.com/amazon-reviews-pds/tsv/amazon_reviews_us_Jewelry_v1_00.tsv.gz"
   ]
  },
  {
   "cell_type": "code",
   "execution_count": 50,
   "metadata": {},
   "outputs": [],
   "source": [
    "import pandas as pd\n",
    "import numpy as np\n",
    "import re\n",
    "from bs4 import BeautifulSoup\n",
    "import contractions\n",
    " "
   ]
  },
  {
   "cell_type": "code",
   "execution_count": 51,
   "metadata": {},
   "outputs": [],
   "source": [
    "import nltk\n",
    "import ssl\n",
    "\n",
    "try:\n",
    "    _create_unverified_https_context = ssl._create_unverified_context\n",
    "except AttributeError:\n",
    "    pass\n",
    "else:\n",
    "    ssl._create_default_https_context = _create_unverified_https_context"
   ]
  },
  {
   "cell_type": "code",
   "execution_count": 52,
   "metadata": {},
   "outputs": [
    {
     "name": "stderr",
     "output_type": "stream",
     "text": [
      "[nltk_data] Downloading package wordnet to\n",
      "[nltk_data]     /Users/devyanbiswas/nltk_data...\n",
      "[nltk_data]   Package wordnet is already up-to-date!\n"
     ]
    },
    {
     "data": {
      "text/plain": [
       "True"
      ]
     },
     "execution_count": 52,
     "metadata": {},
     "output_type": "execute_result"
    }
   ],
   "source": [
    "nltk.download('wordnet')"
   ]
  },
  {
   "cell_type": "markdown",
   "metadata": {},
   "source": [
    "## Read Data"
   ]
  },
  {
   "cell_type": "code",
   "execution_count": 53,
   "metadata": {},
   "outputs": [],
   "source": [
    "df = pd.read_csv('./amazon_reviews_us_Jewelry_v1_00.tsv', sep='\\t', usecols = ['star_rating','review_body'], header=0) "
   ]
  },
  {
   "cell_type": "code",
   "execution_count": 54,
   "metadata": {},
   "outputs": [
    {
     "data": {
      "text/html": [
       "<div>\n",
       "<style scoped>\n",
       "    .dataframe tbody tr th:only-of-type {\n",
       "        vertical-align: middle;\n",
       "    }\n",
       "\n",
       "    .dataframe tbody tr th {\n",
       "        vertical-align: top;\n",
       "    }\n",
       "\n",
       "    .dataframe thead th {\n",
       "        text-align: right;\n",
       "    }\n",
       "</style>\n",
       "<table border=\"1\" class=\"dataframe\">\n",
       "  <thead>\n",
       "    <tr style=\"text-align: right;\">\n",
       "      <th></th>\n",
       "      <th>star_rating</th>\n",
       "      <th>review_body</th>\n",
       "    </tr>\n",
       "  </thead>\n",
       "  <tbody>\n",
       "    <tr>\n",
       "      <th>0</th>\n",
       "      <td>5</td>\n",
       "      <td>so beautiful even tho clearly not high end ......</td>\n",
       "    </tr>\n",
       "    <tr>\n",
       "      <th>1</th>\n",
       "      <td>5</td>\n",
       "      <td>Great product.. I got this set for my mother, ...</td>\n",
       "    </tr>\n",
       "    <tr>\n",
       "      <th>2</th>\n",
       "      <td>5</td>\n",
       "      <td>Exactly as pictured and my daughter's friend l...</td>\n",
       "    </tr>\n",
       "    <tr>\n",
       "      <th>3</th>\n",
       "      <td>5</td>\n",
       "      <td>Love it. Fits great. Super comfortable and nea...</td>\n",
       "    </tr>\n",
       "    <tr>\n",
       "      <th>4</th>\n",
       "      <td>5</td>\n",
       "      <td>Got this as a Mother's Day gift for my Mom and...</td>\n",
       "    </tr>\n",
       "    <tr>\n",
       "      <th>...</th>\n",
       "      <td>...</td>\n",
       "      <td>...</td>\n",
       "    </tr>\n",
       "    <tr>\n",
       "      <th>1767046</th>\n",
       "      <td>4</td>\n",
       "      <td>It is nice looking and everything (it is sterl...</td>\n",
       "    </tr>\n",
       "    <tr>\n",
       "      <th>1767047</th>\n",
       "      <td>4</td>\n",
       "      <td>my boyfriend bought me this last christmas, an...</td>\n",
       "    </tr>\n",
       "    <tr>\n",
       "      <th>1767048</th>\n",
       "      <td>4</td>\n",
       "      <td>This is a great way to quickly start learning ...</td>\n",
       "    </tr>\n",
       "    <tr>\n",
       "      <th>1767049</th>\n",
       "      <td>5</td>\n",
       "      <td>the 14kt gold earrings look remarkable...would...</td>\n",
       "    </tr>\n",
       "    <tr>\n",
       "      <th>1767050</th>\n",
       "      <td>5</td>\n",
       "      <td>It will be a gift to my special friend. We kno...</td>\n",
       "    </tr>\n",
       "  </tbody>\n",
       "</table>\n",
       "<p>1767051 rows × 2 columns</p>\n",
       "</div>"
      ],
      "text/plain": [
       "        star_rating                                        review_body\n",
       "0                 5  so beautiful even tho clearly not high end ......\n",
       "1                 5  Great product.. I got this set for my mother, ...\n",
       "2                 5  Exactly as pictured and my daughter's friend l...\n",
       "3                 5  Love it. Fits great. Super comfortable and nea...\n",
       "4                 5  Got this as a Mother's Day gift for my Mom and...\n",
       "...             ...                                                ...\n",
       "1767046           4  It is nice looking and everything (it is sterl...\n",
       "1767047           4  my boyfriend bought me this last christmas, an...\n",
       "1767048           4  This is a great way to quickly start learning ...\n",
       "1767049           5  the 14kt gold earrings look remarkable...would...\n",
       "1767050           5  It will be a gift to my special friend. We kno...\n",
       "\n",
       "[1767051 rows x 2 columns]"
      ]
     },
     "execution_count": 54,
     "metadata": {},
     "output_type": "execute_result"
    }
   ],
   "source": [
    "df"
   ]
  },
  {
   "cell_type": "code",
   "execution_count": 55,
   "metadata": {},
   "outputs": [
    {
     "data": {
      "text/plain": [
       "star_rating    object\n",
       "review_body    object\n",
       "dtype: object"
      ]
     },
     "execution_count": 55,
     "metadata": {},
     "output_type": "execute_result"
    }
   ],
   "source": [
    "df.dtypes"
   ]
  },
  {
   "cell_type": "markdown",
   "metadata": {},
   "source": [
    "## Keep Reviews and Ratings\n",
    "- Done already in read"
   ]
  },
  {
   "cell_type": "markdown",
   "metadata": {},
   "source": [
    "# Data Cleaning\n",
    "---\n",
    "- NOTE: Regex expressions sourced from various online resoureces and documentations\n",
    "\n"
   ]
  },
  {
   "cell_type": "code",
   "execution_count": 56,
   "metadata": {},
   "outputs": [
    {
     "data": {
      "text/html": [
       "<div>\n",
       "<style scoped>\n",
       "    .dataframe tbody tr th:only-of-type {\n",
       "        vertical-align: middle;\n",
       "    }\n",
       "\n",
       "    .dataframe tbody tr th {\n",
       "        vertical-align: top;\n",
       "    }\n",
       "\n",
       "    .dataframe thead th {\n",
       "        text-align: right;\n",
       "    }\n",
       "</style>\n",
       "<table border=\"1\" class=\"dataframe\">\n",
       "  <thead>\n",
       "    <tr style=\"text-align: right;\">\n",
       "      <th></th>\n",
       "      <th>star_rating</th>\n",
       "      <th>review_body</th>\n",
       "    </tr>\n",
       "  </thead>\n",
       "  <tbody>\n",
       "    <tr>\n",
       "      <th>0</th>\n",
       "      <td>5</td>\n",
       "      <td>so beautiful even tho clearly not high end ......</td>\n",
       "    </tr>\n",
       "    <tr>\n",
       "      <th>1</th>\n",
       "      <td>5</td>\n",
       "      <td>Great product.. I got this set for my mother, ...</td>\n",
       "    </tr>\n",
       "    <tr>\n",
       "      <th>2</th>\n",
       "      <td>5</td>\n",
       "      <td>Exactly as pictured and my daughter's friend l...</td>\n",
       "    </tr>\n",
       "    <tr>\n",
       "      <th>3</th>\n",
       "      <td>5</td>\n",
       "      <td>Love it. Fits great. Super comfortable and nea...</td>\n",
       "    </tr>\n",
       "    <tr>\n",
       "      <th>4</th>\n",
       "      <td>5</td>\n",
       "      <td>Got this as a Mother's Day gift for my Mom and...</td>\n",
       "    </tr>\n",
       "    <tr>\n",
       "      <th>...</th>\n",
       "      <td>...</td>\n",
       "      <td>...</td>\n",
       "    </tr>\n",
       "    <tr>\n",
       "      <th>1767046</th>\n",
       "      <td>4</td>\n",
       "      <td>It is nice looking and everything (it is sterl...</td>\n",
       "    </tr>\n",
       "    <tr>\n",
       "      <th>1767047</th>\n",
       "      <td>4</td>\n",
       "      <td>my boyfriend bought me this last christmas, an...</td>\n",
       "    </tr>\n",
       "    <tr>\n",
       "      <th>1767048</th>\n",
       "      <td>4</td>\n",
       "      <td>This is a great way to quickly start learning ...</td>\n",
       "    </tr>\n",
       "    <tr>\n",
       "      <th>1767049</th>\n",
       "      <td>5</td>\n",
       "      <td>the 14kt gold earrings look remarkable...would...</td>\n",
       "    </tr>\n",
       "    <tr>\n",
       "      <th>1767050</th>\n",
       "      <td>5</td>\n",
       "      <td>It will be a gift to my special friend. We kno...</td>\n",
       "    </tr>\n",
       "  </tbody>\n",
       "</table>\n",
       "<p>1701509 rows × 2 columns</p>\n",
       "</div>"
      ],
      "text/plain": [
       "        star_rating                                        review_body\n",
       "0                 5  so beautiful even tho clearly not high end ......\n",
       "1                 5  Great product.. I got this set for my mother, ...\n",
       "2                 5  Exactly as pictured and my daughter's friend l...\n",
       "3                 5  Love it. Fits great. Super comfortable and nea...\n",
       "4                 5  Got this as a Mother's Day gift for my Mom and...\n",
       "...             ...                                                ...\n",
       "1767046           4  It is nice looking and everything (it is sterl...\n",
       "1767047           4  my boyfriend bought me this last christmas, an...\n",
       "1767048           4  This is a great way to quickly start learning ...\n",
       "1767049           5  the 14kt gold earrings look remarkable...would...\n",
       "1767050           5  It will be a gift to my special friend. We kno...\n",
       "\n",
       "[1701509 rows x 2 columns]"
      ]
     },
     "execution_count": 56,
     "metadata": {},
     "output_type": "execute_result"
    }
   ],
   "source": [
    "df = df.loc[df['star_rating'].isin([5, 4, 3, 2, 1])]\n",
    "df"
   ]
  },
  {
   "cell_type": "code",
   "execution_count": 57,
   "metadata": {},
   "outputs": [],
   "source": [
    "# First, make sure all the datatypes are correct/consistent\n",
    "\n",
    "# Convert ratings to int instead of double\n",
    "df['star_rating'] = df['star_rating'].astype(int)\n",
    "\n",
    "# Convert ratings to int instead of double\n",
    "df['review_body'] = df['review_body'].astype(str)"
   ]
  },
  {
   "cell_type": "code",
   "execution_count": 58,
   "metadata": {},
   "outputs": [
    {
     "data": {
      "text/plain": [
       "star_rating     int64\n",
       "review_body    object\n",
       "dtype: object"
      ]
     },
     "execution_count": 58,
     "metadata": {},
     "output_type": "execute_result"
    }
   ],
   "source": [
    "df.dtypes"
   ]
  },
  {
   "cell_type": "code",
   "execution_count": 59,
   "metadata": {},
   "outputs": [],
   "source": [
    "# Getting the average character length of review body BEFORE data cleaning\n",
    "before_dataproc = df['review_body'].str.len().mean()"
   ]
  },
  {
   "cell_type": "code",
   "execution_count": 60,
   "metadata": {},
   "outputs": [],
   "source": [
    "# Lowercase the review bodies\n",
    "df['review_body'] = df['review_body'].str.lower()"
   ]
  },
  {
   "cell_type": "code",
   "execution_count": 61,
   "metadata": {},
   "outputs": [],
   "source": [
    "# Remove links, html tags\n",
    "df['review_body'] = df['review_body'].str.replace(r'<[^<>]*>', '', regex=True)\n",
    "df['review_body']  = df['review_body'].str.replace(r's*https?://S+(s+|$)', ' ').str.strip()"
   ]
  },
  {
   "cell_type": "code",
   "execution_count": 62,
   "metadata": {},
   "outputs": [],
   "source": [
    "# Expand contractions\n",
    "df['review_body'] = df['review_body'].astype(str)\n",
    "df['review_body'] = df['review_body'].apply(lambda x: contractions.fix(x))"
   ]
  },
  {
   "cell_type": "code",
   "execution_count": 63,
   "metadata": {},
   "outputs": [],
   "source": [
    "# Remove punctuation, non-alpha\n",
    "# df['review_body'] = df['review_body'].str.replace(r'[^\\w\\s]+', ' ')\n",
    "df['review_body'] = df.review_body.str.replace('[^a-zA-Z\\s]', ' ')"
   ]
  },
  {
   "cell_type": "code",
   "execution_count": 64,
   "metadata": {},
   "outputs": [],
   "source": [
    "# Remove extra spaces\n",
    "df['review_body'] = df['review_body'].replace(r'\\s+', ' ', regex=True)"
   ]
  },
  {
   "cell_type": "code",
   "execution_count": 65,
   "metadata": {},
   "outputs": [],
   "source": [
    "# Remove Blank lines after all data cleaning is done\n",
    "df['review_body'].replace('', np.nan, inplace=True)\n",
    "df['review_body'].dropna(inplace=True)"
   ]
  },
  {
   "cell_type": "code",
   "execution_count": 66,
   "metadata": {},
   "outputs": [
    {
     "data": {
      "text/html": [
       "<div>\n",
       "<style scoped>\n",
       "    .dataframe tbody tr th:only-of-type {\n",
       "        vertical-align: middle;\n",
       "    }\n",
       "\n",
       "    .dataframe tbody tr th {\n",
       "        vertical-align: top;\n",
       "    }\n",
       "\n",
       "    .dataframe thead th {\n",
       "        text-align: right;\n",
       "    }\n",
       "</style>\n",
       "<table border=\"1\" class=\"dataframe\">\n",
       "  <thead>\n",
       "    <tr style=\"text-align: right;\">\n",
       "      <th></th>\n",
       "      <th>star_rating</th>\n",
       "      <th>review_body</th>\n",
       "    </tr>\n",
       "  </thead>\n",
       "  <tbody>\n",
       "    <tr>\n",
       "      <th>0</th>\n",
       "      <td>5</td>\n",
       "      <td>so beautiful even though clearly not high end ...</td>\n",
       "    </tr>\n",
       "    <tr>\n",
       "      <th>1</th>\n",
       "      <td>5</td>\n",
       "      <td>great product i got this set for my mother as ...</td>\n",
       "    </tr>\n",
       "    <tr>\n",
       "      <th>2</th>\n",
       "      <td>5</td>\n",
       "      <td>exactly as pictured and my daughter s friend l...</td>\n",
       "    </tr>\n",
       "    <tr>\n",
       "      <th>3</th>\n",
       "      <td>5</td>\n",
       "      <td>love it fits great super comfortable and neat ...</td>\n",
       "    </tr>\n",
       "    <tr>\n",
       "      <th>4</th>\n",
       "      <td>5</td>\n",
       "      <td>got this as a mother s day gift for my mom and...</td>\n",
       "    </tr>\n",
       "    <tr>\n",
       "      <th>...</th>\n",
       "      <td>...</td>\n",
       "      <td>...</td>\n",
       "    </tr>\n",
       "    <tr>\n",
       "      <th>1767046</th>\n",
       "      <td>4</td>\n",
       "      <td>it is nice looking and everything it is sterli...</td>\n",
       "    </tr>\n",
       "    <tr>\n",
       "      <th>1767047</th>\n",
       "      <td>4</td>\n",
       "      <td>my boyfriend bought me this last christmas and...</td>\n",
       "    </tr>\n",
       "    <tr>\n",
       "      <th>1767048</th>\n",
       "      <td>4</td>\n",
       "      <td>this is a great way to quickly start learning ...</td>\n",
       "    </tr>\n",
       "    <tr>\n",
       "      <th>1767049</th>\n",
       "      <td>5</td>\n",
       "      <td>the kt gold earrings look remarkable would def...</td>\n",
       "    </tr>\n",
       "    <tr>\n",
       "      <th>1767050</th>\n",
       "      <td>5</td>\n",
       "      <td>it will be a gift to my special friend we know...</td>\n",
       "    </tr>\n",
       "  </tbody>\n",
       "</table>\n",
       "<p>1701509 rows × 2 columns</p>\n",
       "</div>"
      ],
      "text/plain": [
       "         star_rating                                        review_body\n",
       "0                  5  so beautiful even though clearly not high end ...\n",
       "1                  5  great product i got this set for my mother as ...\n",
       "2                  5  exactly as pictured and my daughter s friend l...\n",
       "3                  5  love it fits great super comfortable and neat ...\n",
       "4                  5  got this as a mother s day gift for my mom and...\n",
       "...              ...                                                ...\n",
       "1767046            4  it is nice looking and everything it is sterli...\n",
       "1767047            4  my boyfriend bought me this last christmas and...\n",
       "1767048            4  this is a great way to quickly start learning ...\n",
       "1767049            5  the kt gold earrings look remarkable would def...\n",
       "1767050            5  it will be a gift to my special friend we know...\n",
       "\n",
       "[1701509 rows x 2 columns]"
      ]
     },
     "execution_count": 66,
     "metadata": {},
     "output_type": "execute_result"
    }
   ],
   "source": [
    "df"
   ]
  },
  {
   "cell_type": "code",
   "execution_count": 67,
   "metadata": {},
   "outputs": [
    {
     "name": "stdout",
     "output_type": "stream",
     "text": [
      "Before data proc: 174.64626751900812, After data proc: 168.9937755251368\n"
     ]
    }
   ],
   "source": [
    "after_dataproc = df['review_body'].str.len().mean()\n",
    "print(\"Before data proc: \" + str(before_dataproc) + \",\", \"After data proc: \" + str(after_dataproc))"
   ]
  },
  {
   "cell_type": "markdown",
   "metadata": {},
   "source": [
    " ## We select 20000 reviews randomly from each rating class.\n",
    "\n"
   ]
  },
  {
   "cell_type": "code",
   "execution_count": 68,
   "metadata": {},
   "outputs": [],
   "source": [
    "# Figure out the different values for star rating column\n",
    "cats = df['star_rating'].unique()"
   ]
  },
  {
   "cell_type": "code",
   "execution_count": 69,
   "metadata": {},
   "outputs": [],
   "source": [
    "# Get the integer ones from the dataframe\n",
    "# Not very pythonic but hey she gets the job done lol\n",
    "star_5_df = df[df['star_rating'] == 5]\n",
    "star_4_df = df[df['star_rating'] == 4]\n",
    "star_3_df = df[df['star_rating'] == 3]\n",
    "star_2_df = df[df['star_rating'] == 2]\n",
    "star_1_df = df[df['star_rating'] == 1]"
   ]
  },
  {
   "cell_type": "code",
   "execution_count": 70,
   "metadata": {},
   "outputs": [],
   "source": [
    "# CHOOSING 20k random entries from each\n",
    "# Seeding them so that data is more consistent\n",
    "df_20_5 = star_5_df.sample(n=20000, random_state=100)\n",
    "df_20_4 = star_4_df.sample(n=20000, random_state=100)\n",
    "df_20_3 = star_3_df.sample(n=20000, random_state=100)\n",
    "df_20_2 = star_2_df.sample(n=20000, random_state=100)\n",
    "df_20_1 = star_1_df.sample(n=20000, random_state=100)"
   ]
  },
  {
   "cell_type": "code",
   "execution_count": 71,
   "metadata": {},
   "outputs": [],
   "source": [
    "# Splitting them 16k and 4k to make new datasets for training and testing\n",
    "training_5 = df_20_5.iloc[:16000,:]\n",
    "testing_5 = df_20_5.iloc[16000:,:]\n",
    "training_4 = df_20_4.iloc[:16000,:]\n",
    "testing_4 = df_20_4.iloc[16000:,:]\n",
    "training_3 = df_20_3.iloc[:16000,:]\n",
    "testing_3 = df_20_3.iloc[16000:,:]\n",
    "training_2 = df_20_2.iloc[:16000,:]\n",
    "testing_2 = df_20_2.iloc[16000:,:]\n",
    "training_1 = df_20_1.iloc[:16000,:]\n",
    "testing_1 = df_20_1.iloc[16000:,:]\n"
   ]
  },
  {
   "cell_type": "code",
   "execution_count": 72,
   "metadata": {},
   "outputs": [],
   "source": [
    "# Merge all the ones above into one dataframe for training\n",
    "# training_data = [training_5, training_4, training_3, training_2, training_1]\n",
    "training_data = pd.concat([training_5, training_4])\n",
    "training_data = pd.concat([training_data, training_3])\n",
    "training_data = pd.concat([training_data, training_2])\n",
    "training_data = pd.concat([training_data, training_1])\n",
    "training_data=training_data.reset_index(drop=True)"
   ]
  },
  {
   "cell_type": "code",
   "execution_count": 73,
   "metadata": {},
   "outputs": [],
   "source": [
    "# Merge all the remaining ones above into one dataframe for testing\n",
    "testing_data = pd.concat([testing_5, testing_4])\n",
    "testing_data = pd.concat([testing_data, testing_3])\n",
    "testing_data = pd.concat([testing_data, testing_2])\n",
    "testing_data = pd.concat([testing_data, testing_1])\n",
    "testing_data=testing_data.reset_index(drop=True)"
   ]
  },
  {
   "cell_type": "code",
   "execution_count": 74,
   "metadata": {},
   "outputs": [
    {
     "data": {
      "text/html": [
       "<div>\n",
       "<style scoped>\n",
       "    .dataframe tbody tr th:only-of-type {\n",
       "        vertical-align: middle;\n",
       "    }\n",
       "\n",
       "    .dataframe tbody tr th {\n",
       "        vertical-align: top;\n",
       "    }\n",
       "\n",
       "    .dataframe thead th {\n",
       "        text-align: right;\n",
       "    }\n",
       "</style>\n",
       "<table border=\"1\" class=\"dataframe\">\n",
       "  <thead>\n",
       "    <tr style=\"text-align: right;\">\n",
       "      <th></th>\n",
       "      <th>star_rating</th>\n",
       "      <th>review_body</th>\n",
       "    </tr>\n",
       "  </thead>\n",
       "  <tbody>\n",
       "    <tr>\n",
       "      <th>0</th>\n",
       "      <td>5</td>\n",
       "      <td>i was looking for a pandora bracelet but i wan...</td>\n",
       "    </tr>\n",
       "    <tr>\n",
       "      <th>1</th>\n",
       "      <td>5</td>\n",
       "      <td>these earrings are cute and not at all gaudy j...</td>\n",
       "    </tr>\n",
       "    <tr>\n",
       "      <th>2</th>\n",
       "      <td>5</td>\n",
       "      <td>well made beautiful elegant mom loves them</td>\n",
       "    </tr>\n",
       "    <tr>\n",
       "      <th>3</th>\n",
       "      <td>5</td>\n",
       "      <td>love them since i now have so many for the sam...</td>\n",
       "    </tr>\n",
       "    <tr>\n",
       "      <th>4</th>\n",
       "      <td>5</td>\n",
       "      <td>my new favorite earrings</td>\n",
       "    </tr>\n",
       "    <tr>\n",
       "      <th>...</th>\n",
       "      <td>...</td>\n",
       "      <td>...</td>\n",
       "    </tr>\n",
       "    <tr>\n",
       "      <th>79995</th>\n",
       "      <td>1</td>\n",
       "      <td>not only did this thing not shine it was cheap...</td>\n",
       "    </tr>\n",
       "    <tr>\n",
       "      <th>79996</th>\n",
       "      <td>1</td>\n",
       "      <td>do not buy this product my boyfriend bought it...</td>\n",
       "    </tr>\n",
       "    <tr>\n",
       "      <th>79997</th>\n",
       "      <td>1</td>\n",
       "      <td>not even worth the sale price it is hollow in ...</td>\n",
       "    </tr>\n",
       "    <tr>\n",
       "      <th>79998</th>\n",
       "      <td>1</td>\n",
       "      <td>bought this set as an additional gift during t...</td>\n",
       "    </tr>\n",
       "    <tr>\n",
       "      <th>79999</th>\n",
       "      <td>1</td>\n",
       "      <td>terrible quality broke day i got it</td>\n",
       "    </tr>\n",
       "  </tbody>\n",
       "</table>\n",
       "<p>80000 rows × 2 columns</p>\n",
       "</div>"
      ],
      "text/plain": [
       "       star_rating                                        review_body\n",
       "0                5  i was looking for a pandora bracelet but i wan...\n",
       "1                5  these earrings are cute and not at all gaudy j...\n",
       "2                5        well made beautiful elegant mom loves them \n",
       "3                5  love them since i now have so many for the sam...\n",
       "4                5                          my new favorite earrings \n",
       "...            ...                                                ...\n",
       "79995            1  not only did this thing not shine it was cheap...\n",
       "79996            1  do not buy this product my boyfriend bought it...\n",
       "79997            1  not even worth the sale price it is hollow in ...\n",
       "79998            1  bought this set as an additional gift during t...\n",
       "79999            1                terrible quality broke day i got it\n",
       "\n",
       "[80000 rows x 2 columns]"
      ]
     },
     "execution_count": 74,
     "metadata": {},
     "output_type": "execute_result"
    }
   ],
   "source": [
    "training_data"
   ]
  },
  {
   "cell_type": "code",
   "execution_count": 75,
   "metadata": {},
   "outputs": [
    {
     "data": {
      "text/html": [
       "<div>\n",
       "<style scoped>\n",
       "    .dataframe tbody tr th:only-of-type {\n",
       "        vertical-align: middle;\n",
       "    }\n",
       "\n",
       "    .dataframe tbody tr th {\n",
       "        vertical-align: top;\n",
       "    }\n",
       "\n",
       "    .dataframe thead th {\n",
       "        text-align: right;\n",
       "    }\n",
       "</style>\n",
       "<table border=\"1\" class=\"dataframe\">\n",
       "  <thead>\n",
       "    <tr style=\"text-align: right;\">\n",
       "      <th></th>\n",
       "      <th>star_rating</th>\n",
       "      <th>review_body</th>\n",
       "    </tr>\n",
       "  </thead>\n",
       "  <tbody>\n",
       "    <tr>\n",
       "      <th>0</th>\n",
       "      <td>5</td>\n",
       "      <td>these were the highlight of my wife s christma...</td>\n",
       "    </tr>\n",
       "    <tr>\n",
       "      <th>1</th>\n",
       "      <td>5</td>\n",
       "      <td>gave a gift very pretty</td>\n",
       "    </tr>\n",
       "    <tr>\n",
       "      <th>2</th>\n",
       "      <td>5</td>\n",
       "      <td>beautiful very stunning my daughter in law is ...</td>\n",
       "    </tr>\n",
       "    <tr>\n",
       "      <th>3</th>\n",
       "      <td>5</td>\n",
       "      <td>everything it is was really good thanks</td>\n",
       "    </tr>\n",
       "    <tr>\n",
       "      <th>4</th>\n",
       "      <td>5</td>\n",
       "      <td>so i was excited to see it come in the mail on...</td>\n",
       "    </tr>\n",
       "    <tr>\n",
       "      <th>...</th>\n",
       "      <td>...</td>\n",
       "      <td>...</td>\n",
       "    </tr>\n",
       "    <tr>\n",
       "      <th>19995</th>\n",
       "      <td>1</td>\n",
       "      <td>they are beautiful and sparkle like crazy but ...</td>\n",
       "    </tr>\n",
       "    <tr>\n",
       "      <th>19996</th>\n",
       "      <td>1</td>\n",
       "      <td>horrible no directions still cannot figuer out...</td>\n",
       "    </tr>\n",
       "    <tr>\n",
       "      <th>19997</th>\n",
       "      <td>1</td>\n",
       "      <td>i asked my boyfriend to buy this for me and wa...</td>\n",
       "    </tr>\n",
       "    <tr>\n",
       "      <th>19998</th>\n",
       "      <td>1</td>\n",
       "      <td>product came broken for the price it was not w...</td>\n",
       "    </tr>\n",
       "    <tr>\n",
       "      <th>19999</th>\n",
       "      <td>1</td>\n",
       "      <td>the clips are obvious on the smaller pair and ...</td>\n",
       "    </tr>\n",
       "  </tbody>\n",
       "</table>\n",
       "<p>20000 rows × 2 columns</p>\n",
       "</div>"
      ],
      "text/plain": [
       "       star_rating                                        review_body\n",
       "0                5  these were the highlight of my wife s christma...\n",
       "1                5                            gave a gift very pretty\n",
       "2                5  beautiful very stunning my daughter in law is ...\n",
       "3                5           everything it is was really good thanks \n",
       "4                5  so i was excited to see it come in the mail on...\n",
       "...            ...                                                ...\n",
       "19995            1  they are beautiful and sparkle like crazy but ...\n",
       "19996            1  horrible no directions still cannot figuer out...\n",
       "19997            1  i asked my boyfriend to buy this for me and wa...\n",
       "19998            1  product came broken for the price it was not w...\n",
       "19999            1  the clips are obvious on the smaller pair and ...\n",
       "\n",
       "[20000 rows x 2 columns]"
      ]
     },
     "execution_count": 75,
     "metadata": {},
     "output_type": "execute_result"
    }
   ],
   "source": [
    "testing_data"
   ]
  },
  {
   "cell_type": "markdown",
   "metadata": {},
   "source": [
    "# Pre-processing"
   ]
  },
  {
   "cell_type": "code",
   "execution_count": 76,
   "metadata": {},
   "outputs": [],
   "source": [
    "# This is a bit convoluted, but I concat the training and testing data\n",
    "# For the sake of getting a more accurate measure of the average length of \n",
    "# the review body.\n",
    "whole_dataset = pd.concat([training_data, testing_data])"
   ]
  },
  {
   "cell_type": "code",
   "execution_count": 77,
   "metadata": {},
   "outputs": [
    {
     "data": {
      "text/html": [
       "<div>\n",
       "<style scoped>\n",
       "    .dataframe tbody tr th:only-of-type {\n",
       "        vertical-align: middle;\n",
       "    }\n",
       "\n",
       "    .dataframe tbody tr th {\n",
       "        vertical-align: top;\n",
       "    }\n",
       "\n",
       "    .dataframe thead th {\n",
       "        text-align: right;\n",
       "    }\n",
       "</style>\n",
       "<table border=\"1\" class=\"dataframe\">\n",
       "  <thead>\n",
       "    <tr style=\"text-align: right;\">\n",
       "      <th></th>\n",
       "      <th>star_rating</th>\n",
       "      <th>review_body</th>\n",
       "    </tr>\n",
       "  </thead>\n",
       "  <tbody>\n",
       "    <tr>\n",
       "      <th>0</th>\n",
       "      <td>5</td>\n",
       "      <td>i was looking for a pandora bracelet but i wan...</td>\n",
       "    </tr>\n",
       "    <tr>\n",
       "      <th>1</th>\n",
       "      <td>5</td>\n",
       "      <td>these earrings are cute and not at all gaudy j...</td>\n",
       "    </tr>\n",
       "    <tr>\n",
       "      <th>2</th>\n",
       "      <td>5</td>\n",
       "      <td>well made beautiful elegant mom loves them</td>\n",
       "    </tr>\n",
       "    <tr>\n",
       "      <th>3</th>\n",
       "      <td>5</td>\n",
       "      <td>love them since i now have so many for the sam...</td>\n",
       "    </tr>\n",
       "    <tr>\n",
       "      <th>4</th>\n",
       "      <td>5</td>\n",
       "      <td>my new favorite earrings</td>\n",
       "    </tr>\n",
       "    <tr>\n",
       "      <th>...</th>\n",
       "      <td>...</td>\n",
       "      <td>...</td>\n",
       "    </tr>\n",
       "    <tr>\n",
       "      <th>19995</th>\n",
       "      <td>1</td>\n",
       "      <td>they are beautiful and sparkle like crazy but ...</td>\n",
       "    </tr>\n",
       "    <tr>\n",
       "      <th>19996</th>\n",
       "      <td>1</td>\n",
       "      <td>horrible no directions still cannot figuer out...</td>\n",
       "    </tr>\n",
       "    <tr>\n",
       "      <th>19997</th>\n",
       "      <td>1</td>\n",
       "      <td>i asked my boyfriend to buy this for me and wa...</td>\n",
       "    </tr>\n",
       "    <tr>\n",
       "      <th>19998</th>\n",
       "      <td>1</td>\n",
       "      <td>product came broken for the price it was not w...</td>\n",
       "    </tr>\n",
       "    <tr>\n",
       "      <th>19999</th>\n",
       "      <td>1</td>\n",
       "      <td>the clips are obvious on the smaller pair and ...</td>\n",
       "    </tr>\n",
       "  </tbody>\n",
       "</table>\n",
       "<p>100000 rows × 2 columns</p>\n",
       "</div>"
      ],
      "text/plain": [
       "       star_rating                                        review_body\n",
       "0                5  i was looking for a pandora bracelet but i wan...\n",
       "1                5  these earrings are cute and not at all gaudy j...\n",
       "2                5        well made beautiful elegant mom loves them \n",
       "3                5  love them since i now have so many for the sam...\n",
       "4                5                          my new favorite earrings \n",
       "...            ...                                                ...\n",
       "19995            1  they are beautiful and sparkle like crazy but ...\n",
       "19996            1  horrible no directions still cannot figuer out...\n",
       "19997            1  i asked my boyfriend to buy this for me and wa...\n",
       "19998            1  product came broken for the price it was not w...\n",
       "19999            1  the clips are obvious on the smaller pair and ...\n",
       "\n",
       "[100000 rows x 2 columns]"
      ]
     },
     "execution_count": 77,
     "metadata": {},
     "output_type": "execute_result"
    }
   ],
   "source": [
    "whole_dataset"
   ]
  },
  {
   "cell_type": "markdown",
   "metadata": {},
   "source": [
    "## remove the stop words "
   ]
  },
  {
   "cell_type": "code",
   "execution_count": 78,
   "metadata": {},
   "outputs": [],
   "source": [
    "# Average character length before pre-processing\n",
    "before_preproc = whole_dataset['review_body'].str.len().mean()"
   ]
  },
  {
   "cell_type": "code",
   "execution_count": 79,
   "metadata": {},
   "outputs": [
    {
     "name": "stderr",
     "output_type": "stream",
     "text": [
      "[nltk_data] Downloading package stopwords to\n",
      "[nltk_data]     /Users/devyanbiswas/nltk_data...\n",
      "[nltk_data]   Package stopwords is already up-to-date!\n"
     ]
    }
   ],
   "source": [
    "nltk.download('stopwords')\n",
    "from nltk.corpus import stopwords"
   ]
  },
  {
   "cell_type": "code",
   "execution_count": 80,
   "metadata": {},
   "outputs": [],
   "source": [
    "stop_words = stopwords.words('english')\n",
    "whole_dataset['review_body'] = whole_dataset['review_body'].apply(lambda x : ' '.join([word for word in str(x).split() if word not in (stop_words)]))"
   ]
  },
  {
   "cell_type": "code",
   "execution_count": 81,
   "metadata": {},
   "outputs": [
    {
     "data": {
      "text/html": [
       "<div>\n",
       "<style scoped>\n",
       "    .dataframe tbody tr th:only-of-type {\n",
       "        vertical-align: middle;\n",
       "    }\n",
       "\n",
       "    .dataframe tbody tr th {\n",
       "        vertical-align: top;\n",
       "    }\n",
       "\n",
       "    .dataframe thead th {\n",
       "        text-align: right;\n",
       "    }\n",
       "</style>\n",
       "<table border=\"1\" class=\"dataframe\">\n",
       "  <thead>\n",
       "    <tr style=\"text-align: right;\">\n",
       "      <th></th>\n",
       "      <th>star_rating</th>\n",
       "      <th>review_body</th>\n",
       "    </tr>\n",
       "  </thead>\n",
       "  <tbody>\n",
       "    <tr>\n",
       "      <th>0</th>\n",
       "      <td>5</td>\n",
       "      <td>looking pandora bracelet wanted sterling silve...</td>\n",
       "    </tr>\n",
       "    <tr>\n",
       "      <th>1</th>\n",
       "      <td>5</td>\n",
       "      <td>earrings cute gaudy enough detail design espec...</td>\n",
       "    </tr>\n",
       "    <tr>\n",
       "      <th>2</th>\n",
       "      <td>5</td>\n",
       "      <td>well made beautiful elegant mom loves</td>\n",
       "    </tr>\n",
       "    <tr>\n",
       "      <th>3</th>\n",
       "      <td>5</td>\n",
       "      <td>love since many price one stores fine losing o...</td>\n",
       "    </tr>\n",
       "    <tr>\n",
       "      <th>4</th>\n",
       "      <td>5</td>\n",
       "      <td>new favorite earrings</td>\n",
       "    </tr>\n",
       "    <tr>\n",
       "      <th>...</th>\n",
       "      <td>...</td>\n",
       "      <td>...</td>\n",
       "    </tr>\n",
       "    <tr>\n",
       "      <th>19995</th>\n",
       "      <td>1</td>\n",
       "      <td>beautiful sparkle like crazy stud broke second...</td>\n",
       "    </tr>\n",
       "    <tr>\n",
       "      <th>19996</th>\n",
       "      <td>1</td>\n",
       "      <td>horrible directions still cannot figuer open i...</td>\n",
       "    </tr>\n",
       "    <tr>\n",
       "      <th>19997</th>\n",
       "      <td>1</td>\n",
       "      <td>asked boyfriend buy really disappointed find u...</td>\n",
       "    </tr>\n",
       "    <tr>\n",
       "      <th>19998</th>\n",
       "      <td>1</td>\n",
       "      <td>product came broken price worth sending back r...</td>\n",
       "    </tr>\n",
       "    <tr>\n",
       "      <th>19999</th>\n",
       "      <td>1</td>\n",
       "      <td>clips obvious smaller pair bigger pair big pin...</td>\n",
       "    </tr>\n",
       "  </tbody>\n",
       "</table>\n",
       "<p>100000 rows × 2 columns</p>\n",
       "</div>"
      ],
      "text/plain": [
       "       star_rating                                        review_body\n",
       "0                5  looking pandora bracelet wanted sterling silve...\n",
       "1                5  earrings cute gaudy enough detail design espec...\n",
       "2                5              well made beautiful elegant mom loves\n",
       "3                5  love since many price one stores fine losing o...\n",
       "4                5                              new favorite earrings\n",
       "...            ...                                                ...\n",
       "19995            1  beautiful sparkle like crazy stud broke second...\n",
       "19996            1  horrible directions still cannot figuer open i...\n",
       "19997            1  asked boyfriend buy really disappointed find u...\n",
       "19998            1  product came broken price worth sending back r...\n",
       "19999            1  clips obvious smaller pair bigger pair big pin...\n",
       "\n",
       "[100000 rows x 2 columns]"
      ]
     },
     "execution_count": 81,
     "metadata": {},
     "output_type": "execute_result"
    }
   ],
   "source": [
    "whole_dataset"
   ]
  },
  {
   "cell_type": "markdown",
   "metadata": {},
   "source": [
    "## perform lemmatization  "
   ]
  },
  {
   "cell_type": "code",
   "execution_count": 82,
   "metadata": {},
   "outputs": [
    {
     "name": "stderr",
     "output_type": "stream",
     "text": [
      "[nltk_data] Downloading package omw-1.4 to\n",
      "[nltk_data]     /Users/devyanbiswas/nltk_data...\n",
      "[nltk_data]   Package omw-1.4 is already up-to-date!\n"
     ]
    }
   ],
   "source": [
    "from nltk.stem import WordNetLemmatizer\n",
    "nltk.download('omw-1.4')\n",
    "wnl = WordNetLemmatizer()"
   ]
  },
  {
   "cell_type": "code",
   "execution_count": 83,
   "metadata": {},
   "outputs": [],
   "source": [
    "whole_dataset['review_body'] = whole_dataset['review_body'].apply(lambda x: ' '.join(wnl.lemmatize(word, pos=\"n\") for word in x.split()))"
   ]
  },
  {
   "cell_type": "code",
   "execution_count": 84,
   "metadata": {},
   "outputs": [
    {
     "data": {
      "text/html": [
       "<div>\n",
       "<style scoped>\n",
       "    .dataframe tbody tr th:only-of-type {\n",
       "        vertical-align: middle;\n",
       "    }\n",
       "\n",
       "    .dataframe tbody tr th {\n",
       "        vertical-align: top;\n",
       "    }\n",
       "\n",
       "    .dataframe thead th {\n",
       "        text-align: right;\n",
       "    }\n",
       "</style>\n",
       "<table border=\"1\" class=\"dataframe\">\n",
       "  <thead>\n",
       "    <tr style=\"text-align: right;\">\n",
       "      <th></th>\n",
       "      <th>star_rating</th>\n",
       "      <th>review_body</th>\n",
       "    </tr>\n",
       "  </thead>\n",
       "  <tbody>\n",
       "    <tr>\n",
       "      <th>0</th>\n",
       "      <td>5</td>\n",
       "      <td>looking pandora bracelet wanted sterling silve...</td>\n",
       "    </tr>\n",
       "    <tr>\n",
       "      <th>1</th>\n",
       "      <td>5</td>\n",
       "      <td>earring cute gaudy enough detail design especi...</td>\n",
       "    </tr>\n",
       "    <tr>\n",
       "      <th>2</th>\n",
       "      <td>5</td>\n",
       "      <td>well made beautiful elegant mom love</td>\n",
       "    </tr>\n",
       "    <tr>\n",
       "      <th>3</th>\n",
       "      <td>5</td>\n",
       "      <td>love since many price one store fine losing on...</td>\n",
       "    </tr>\n",
       "    <tr>\n",
       "      <th>4</th>\n",
       "      <td>5</td>\n",
       "      <td>new favorite earring</td>\n",
       "    </tr>\n",
       "    <tr>\n",
       "      <th>...</th>\n",
       "      <td>...</td>\n",
       "      <td>...</td>\n",
       "    </tr>\n",
       "    <tr>\n",
       "      <th>19995</th>\n",
       "      <td>1</td>\n",
       "      <td>beautiful sparkle like crazy stud broke second...</td>\n",
       "    </tr>\n",
       "    <tr>\n",
       "      <th>19996</th>\n",
       "      <td>1</td>\n",
       "      <td>horrible direction still cannot figuer open in...</td>\n",
       "    </tr>\n",
       "    <tr>\n",
       "      <th>19997</th>\n",
       "      <td>1</td>\n",
       "      <td>asked boyfriend buy really disappointed find u...</td>\n",
       "    </tr>\n",
       "    <tr>\n",
       "      <th>19998</th>\n",
       "      <td>1</td>\n",
       "      <td>product came broken price worth sending back r...</td>\n",
       "    </tr>\n",
       "    <tr>\n",
       "      <th>19999</th>\n",
       "      <td>1</td>\n",
       "      <td>clip obvious smaller pair bigger pair big pinc...</td>\n",
       "    </tr>\n",
       "  </tbody>\n",
       "</table>\n",
       "<p>100000 rows × 2 columns</p>\n",
       "</div>"
      ],
      "text/plain": [
       "       star_rating                                        review_body\n",
       "0                5  looking pandora bracelet wanted sterling silve...\n",
       "1                5  earring cute gaudy enough detail design especi...\n",
       "2                5               well made beautiful elegant mom love\n",
       "3                5  love since many price one store fine losing on...\n",
       "4                5                               new favorite earring\n",
       "...            ...                                                ...\n",
       "19995            1  beautiful sparkle like crazy stud broke second...\n",
       "19996            1  horrible direction still cannot figuer open in...\n",
       "19997            1  asked boyfriend buy really disappointed find u...\n",
       "19998            1  product came broken price worth sending back r...\n",
       "19999            1  clip obvious smaller pair bigger pair big pinc...\n",
       "\n",
       "[100000 rows x 2 columns]"
      ]
     },
     "execution_count": 84,
     "metadata": {},
     "output_type": "execute_result"
    }
   ],
   "source": [
    "whole_dataset"
   ]
  },
  {
   "cell_type": "code",
   "execution_count": 85,
   "metadata": {},
   "outputs": [
    {
     "name": "stdout",
     "output_type": "stream",
     "text": [
      "Before pre proc: 181.06189, After pre proc: 106.77768\n"
     ]
    }
   ],
   "source": [
    "# Average character length before pre-processing\n",
    "after_preproc = whole_dataset['review_body'].str.len().mean()\n",
    "\n",
    "# NOTE: Since this is being done on a new subset of the previous, the starting avg will be \n",
    "# different, but the idea that this demonstrates is still useful\n",
    "print(\"Before pre proc: \" + str(before_preproc) + \",\", \"After pre proc: \" + str(after_preproc))"
   ]
  },
  {
   "cell_type": "markdown",
   "metadata": {},
   "source": [
    "# TF-IDF Feature Extraction"
   ]
  },
  {
   "cell_type": "code",
   "execution_count": 86,
   "metadata": {},
   "outputs": [
    {
     "name": "stdout",
     "output_type": "stream",
     "text": [
      "Requirement already satisfied: sklearn in /Users/devyanbiswas/Desktop/CSCI544/Homeworks/544/lib/python3.7/site-packages (0.0)\n",
      "Requirement already satisfied: scikit-learn in /Users/devyanbiswas/Desktop/CSCI544/Homeworks/544/lib/python3.7/site-packages (from sklearn) (1.0.2)\n",
      "Requirement already satisfied: threadpoolctl>=2.0.0 in /Users/devyanbiswas/Desktop/CSCI544/Homeworks/544/lib/python3.7/site-packages (from scikit-learn->sklearn) (3.1.0)\n",
      "Requirement already satisfied: numpy>=1.14.6 in /Users/devyanbiswas/Desktop/CSCI544/Homeworks/544/lib/python3.7/site-packages (from scikit-learn->sklearn) (1.21.6)\n",
      "Requirement already satisfied: scipy>=1.1.0 in /Users/devyanbiswas/Desktop/CSCI544/Homeworks/544/lib/python3.7/site-packages (from scikit-learn->sklearn) (1.7.3)\n",
      "Requirement already satisfied: joblib>=0.11 in /Users/devyanbiswas/Desktop/CSCI544/Homeworks/544/lib/python3.7/site-packages (from scikit-learn->sklearn) (1.1.0)\n",
      "\u001b[33mWARNING: You are using pip version 19.2.3, however version 22.2.2 is available.\n",
      "You should consider upgrading via the 'pip install --upgrade pip' command.\u001b[0m\n"
     ]
    }
   ],
   "source": [
    "! pip install sklearn"
   ]
  },
  {
   "cell_type": "code",
   "execution_count": 87,
   "metadata": {},
   "outputs": [],
   "source": [
    "from sklearn.feature_extraction.text import TfidfVectorizer\n",
    "vectorizer = TfidfVectorizer() "
   ]
  },
  {
   "cell_type": "code",
   "execution_count": 88,
   "metadata": {},
   "outputs": [],
   "source": [
    "whole_dataset_review = whole_dataset['review_body']"
   ]
  },
  {
   "cell_type": "code",
   "execution_count": 89,
   "metadata": {},
   "outputs": [],
   "source": [
    "x_whole_vectorized = vectorizer.fit_transform(whole_dataset_review)"
   ]
  },
  {
   "cell_type": "code",
   "execution_count": 90,
   "metadata": {},
   "outputs": [],
   "source": [
    "# Now, we can finally re-split the data back into training and testing.\n",
    "# NOTE: I know there's a built in sklearn funciton to do this, but \n",
    "# I only learned about it later and I kinda wanna just stick with \n",
    "# what works tbh\n",
    "X_train = x_whole_vectorized[:80000,:]\n",
    "X_test = x_whole_vectorized[80000:,:]\n",
    "\n",
    "y_train = training_data['star_rating']\n",
    "y_test = testing_data['star_rating']"
   ]
  },
  {
   "cell_type": "code",
   "execution_count": 91,
   "metadata": {},
   "outputs": [
    {
     "data": {
      "text/plain": [
       "<80000x26921 sparse matrix of type '<class 'numpy.float64'>'\n",
       "\twith 1186804 stored elements in Compressed Sparse Row format>"
      ]
     },
     "execution_count": 91,
     "metadata": {},
     "output_type": "execute_result"
    }
   ],
   "source": [
    "X_train"
   ]
  },
  {
   "cell_type": "markdown",
   "metadata": {},
   "source": [
    "# Perceptron"
   ]
  },
  {
   "cell_type": "code",
   "execution_count": 92,
   "metadata": {},
   "outputs": [
    {
     "data": {
      "text/plain": [
       "Perceptron(max_iter=1)"
      ]
     },
     "execution_count": 92,
     "metadata": {},
     "output_type": "execute_result"
    }
   ],
   "source": [
    "# Import and training\n",
    "from sklearn.linear_model import Perceptron\n",
    "perc = Perceptron(max_iter=1)\n",
    "perc.fit(X_train, y_train)"
   ]
  },
  {
   "cell_type": "code",
   "execution_count": 94,
   "metadata": {},
   "outputs": [
    {
     "name": "stdout",
     "output_type": "stream",
     "text": [
      "METRICS FOR PERCEPTRON\n",
      "======================\n",
      "Recall for class 1:  0.5275, Recall for class 2:  0.3035, Recall for class 3:  0.275, Recall for class 4:  0.40825, Recall for class 5:  0.569, \n",
      "Precision for class 1:  0.48921864131694875, Precision for class 2:  0.33452741802149355, Precision for class 3:  0.3402412619857717, Precision for class 4:  0.3458280389665396, Precision for class 5:  0.5547160614184743, \n",
      "F1 for class 1:  0.5076386382773969, F1 for class 2:  0.31825927382356795, F1 for class 3:  0.3041614820959492, F1 for class 4:  0.3744554001375831, F1 for class 5:  0.5617672466987534, \n",
      "Recall Avg:  0.4166499999999999\n",
      "Accuracy Avg:  0.41665\n",
      "Precision Avg:  0.4129062843418456\n",
      "F1 Avg:  0.41325640820665005\n"
     ]
    }
   ],
   "source": [
    "# Testing and score calcs\n",
    "from sklearn.metrics import recall_score, precision_score, f1_score, accuracy_score\n",
    "\n",
    "perc_y_pred = perc.predict(X_test)\n",
    "\n",
    "print(\"METRICS FOR PERCEPTRON\")\n",
    "print(\"======================\")\n",
    "\n",
    "# Per class\n",
    "recalls = recall_score(y_test, perc_y_pred, average=None)\n",
    "precisions = precision_score(y_test, perc_y_pred, average=None)\n",
    "f1s = f1_score(y_test, perc_y_pred, average=None)\n",
    "\n",
    "for class_entry,value in enumerate(recalls):\n",
    "    print((\"Recall for class %s: \" % str(class_entry+1)), value, end =\", \")\n",
    "\n",
    "print()\n",
    "\n",
    "for class_entry,value in enumerate(precisions):\n",
    "    print((\"Precision for class %s: \" % str(class_entry+1)), value, end =\", \")\n",
    "\n",
    "print()\n",
    "\n",
    "for class_entry,value in enumerate(f1s):\n",
    "    print((\"F1 for class %s: \" % str(class_entry+1)), value, end =\", \")\n",
    "\n",
    "print()\n",
    "\n",
    "# Averages\n",
    "recall_avg = recall_score(y_test, perc_y_pred, average='macro')\n",
    "accuracy_avg = accuracy_score(y_test, perc_y_pred)\n",
    "precision_avg = precision_score(y_test, perc_y_pred, average='macro')\n",
    "f1_avg = f1_score(y_test, perc_y_pred, average='macro')\n",
    "\n",
    "print(\"Recall Avg: \", recall_avg)\n",
    "print(\"Accuracy Avg: \", accuracy_avg)\n",
    "print(\"Precision Avg: \", precision_avg)\n",
    "print(\"F1 Avg: \", f1_avg)"
   ]
  },
  {
   "cell_type": "markdown",
   "metadata": {},
   "source": [
    "# SVM"
   ]
  },
  {
   "cell_type": "code",
   "execution_count": 95,
   "metadata": {},
   "outputs": [
    {
     "data": {
      "text/plain": [
       "LinearSVC(max_iter=2000)"
      ]
     },
     "execution_count": 95,
     "metadata": {},
     "output_type": "execute_result"
    }
   ],
   "source": [
    "from sklearn.svm import LinearSVC\n",
    "lin_svc = LinearSVC(max_iter=2000)\n",
    "lin_svc.fit(X_train, y_train)"
   ]
  },
  {
   "cell_type": "code",
   "execution_count": 96,
   "metadata": {},
   "outputs": [
    {
     "name": "stdout",
     "output_type": "stream",
     "text": [
      "METRICS FOR LINEAR SVC (SVM)\n",
      "======================\n",
      "Recall for class 1:  0.652, Recall for class 2:  0.336, Recall for class 3:  0.3285, Recall for class 4:  0.39725, Recall for class 5:  0.71075, \n",
      "Precision for class 1:  0.5505594257969179, Precision for class 2:  0.38866396761133604, Precision for class 3:  0.3929425837320574, Precision for class 4:  0.4274952919020716, Precision for class 5:  0.5992833052276559, \n",
      "F1 for class 1:  0.5970012590133913, F1 for class 2:  0.3604183427192277, F1 for class 3:  0.3578431372549019, F1 for class 4:  0.4118180640145134, F1 for class 5:  0.6502744739249771, \n",
      "Recall Avg:  0.4849\n",
      "Accuracy Avg:  0.4849\n",
      "Precision Avg:  0.47178891485400776\n",
      "F1 Avg:  0.47547105538540224\n"
     ]
    }
   ],
   "source": [
    "svc_y_pred = lin_svc.predict(X_test)\n",
    "\n",
    "print(\"METRICS FOR LINEAR SVC (SVM)\")\n",
    "print(\"======================\")\n",
    "\n",
    "# Per class\n",
    "recalls = recall_score(y_test, svc_y_pred, average=None)\n",
    "precisions = precision_score(y_test, svc_y_pred, average=None)\n",
    "f1s = f1_score(y_test, svc_y_pred, average=None)\n",
    "\n",
    "for class_entry,value in enumerate(recalls):\n",
    "    print((\"Recall for class %s: \" % str(class_entry+1)), value, end =\", \")\n",
    "\n",
    "print()\n",
    "\n",
    "for class_entry,value in enumerate(precisions):\n",
    "    print((\"Precision for class %s: \" % str(class_entry+1)), value, end =\", \")\n",
    "\n",
    "print()\n",
    "\n",
    "for class_entry,value in enumerate(f1s):\n",
    "    print((\"F1 for class %s: \" % str(class_entry+1)), value, end =\", \")\n",
    "\n",
    "print()\n",
    "\n",
    "# Average\n",
    "recall_avg = recall_score(y_test, svc_y_pred, average='macro')\n",
    "accuracy_avg = accuracy_score(y_test, svc_y_pred)\n",
    "precision_avg = precision_score(y_test, svc_y_pred, average='macro')\n",
    "f1_avg = f1_score(y_test, svc_y_pred, average='macro')\n",
    "\n",
    "print(\"Recall Avg: \", recall_avg)\n",
    "print(\"Accuracy Avg: \", accuracy_avg)\n",
    "print(\"Precision Avg: \", precision_avg)\n",
    "print(\"F1 Avg: \", f1_avg)"
   ]
  },
  {
   "cell_type": "markdown",
   "metadata": {},
   "source": [
    "# Logistic Regression"
   ]
  },
  {
   "cell_type": "code",
   "execution_count": 48,
   "metadata": {},
   "outputs": [
    {
     "data": {
      "text/plain": [
       "LogisticRegression(max_iter=2000)"
      ]
     },
     "execution_count": 48,
     "metadata": {},
     "output_type": "execute_result"
    }
   ],
   "source": [
    "from sklearn.linear_model import LogisticRegression\n",
    "log_regr = LogisticRegression(max_iter=2000)\n",
    "log_regr.fit(X_train, y_train)"
   ]
  },
  {
   "cell_type": "code",
   "execution_count": 49,
   "metadata": {},
   "outputs": [
    {
     "name": "stdout",
     "output_type": "stream",
     "text": [
      "METRICS FOR LOGISTIC REGRESSION\n",
      "======================\n",
      "Recall for class 1:  0.6485, Recall for class 2:  0.3855, Recall for class 3:  0.38675, Recall for class 4:  0.4355, Recall for class 5:  0.6935, \n",
      "Precision for class 1:  0.5854208982171067, Precision for class 2:  0.4099973411326775, Precision for class 3:  0.4191276076943918, Precision for class 4:  0.4618239660657476, Precision for class 5:  0.6384349827387802, \n",
      "F1 for class 1:  0.6153481200332107, F1 for class 2:  0.39737147274835716, F1 for class 3:  0.40228838902613445, F1 for class 4:  0.4482758620689655, F1 for class 5:  0.6648292390653087, \n",
      "Recall Avg:  0.50995\n",
      "Precision Avg:  0.5029609591697408\n",
      "F1 Avg:  0.5056226165883954\n"
     ]
    }
   ],
   "source": [
    "log_regr_pred = log_regr.predict(X_test)\n",
    "\n",
    "print(\"METRICS FOR LOGISTIC REGRESSION\")\n",
    "print(\"======================\")\n",
    "\n",
    "# Per class\n",
    "recalls = recall_score(y_test, log_regr_pred, average=None)\n",
    "precisions = precision_score(y_test, log_regr_pred, average=None)\n",
    "f1s = f1_score(y_test, log_regr_pred, average=None)\n",
    "\n",
    "for class_entry,value in enumerate(recalls):\n",
    "    print((\"Recall for class %s: \" % str(class_entry+1)), value, end =\", \")\n",
    "\n",
    "print()\n",
    "\n",
    "for class_entry,value in enumerate(precisions):\n",
    "    print((\"Precision for class %s: \" % str(class_entry+1)), value, end =\", \")\n",
    "\n",
    "print()\n",
    "\n",
    "for class_entry,value in enumerate(f1s):\n",
    "    print((\"F1 for class %s: \" % str(class_entry+1)), value,  end =\", \")\n",
    "\n",
    "print()\n",
    "\n",
    "# Average\n",
    "recall_avg = recall_score(y_test, log_regr_pred, average='macro')\n",
    "precision_avg = precision_score(y_test, log_regr_pred, average='macro')\n",
    "f1_avg = f1_score(y_test, log_regr_pred, average='macro')\n",
    "\n",
    "print(\"Recall Avg: \", recall_avg)\n",
    "print(\"Precision Avg: \", precision_avg)\n",
    "print(\"F1 Avg: \", f1_avg)"
   ]
  },
  {
   "cell_type": "markdown",
   "metadata": {},
   "source": [
    "# Naive Bayes"
   ]
  },
  {
   "cell_type": "code",
   "execution_count": 50,
   "metadata": {},
   "outputs": [
    {
     "data": {
      "text/plain": [
       "MultinomialNB()"
      ]
     },
     "execution_count": 50,
     "metadata": {},
     "output_type": "execute_result"
    }
   ],
   "source": [
    "from sklearn.naive_bayes import MultinomialNB\n",
    "mnb = MultinomialNB()\n",
    "mnb.fit(X_train, y_train)"
   ]
  },
  {
   "cell_type": "code",
   "execution_count": 51,
   "metadata": {},
   "outputs": [
    {
     "name": "stdout",
     "output_type": "stream",
     "text": [
      "METRICS FOR MULTINOMIAL NAIVE BAYES\n",
      "======================\n",
      "Recall for class 1:  0.6025, Recall for class 2:  0.382, Recall for class 3:  0.38575, Recall for class 4:  0.4255, Recall for class 5:  0.67025, \n",
      "Precision for class 1:  0.594327990135635, Precision for class 2:  0.3960601347848626, Precision for class 3:  0.39422585590189063, Precision for class 4:  0.4300151591712986, Precision for class 5:  0.636061684460261, \n",
      "F1 for class 1:  0.5983860955927994, F1 for class 2:  0.3889030287604989, F1 for class 3:  0.3899418751579479, F1 for class 4:  0.4277456647398844, F1 for class 5:  0.6527084601339015, \n",
      "Recall Avg:  0.4932\n",
      "Precision Avg:  0.49013816489078954\n",
      "F1 Avg:  0.4915370248770065\n"
     ]
    }
   ],
   "source": [
    "mnb_pred = mnb.predict(X_test)\n",
    "\n",
    "print(\"METRICS FOR MULTINOMIAL NAIVE BAYES\")\n",
    "print(\"======================\")\n",
    "\n",
    "# Per class\n",
    "recalls = recall_score(y_test, mnb_pred, average=None)\n",
    "precisions = precision_score(y_test, mnb_pred, average=None)\n",
    "f1s = f1_score(y_test, mnb_pred, average=None)\n",
    "\n",
    "for class_entry,value in enumerate(recalls):\n",
    "    print((\"Recall for class %s: \" % str(class_entry+1)), value,  end =\", \")\n",
    "\n",
    "print()\n",
    "\n",
    "for class_entry,value in enumerate(precisions):\n",
    "    print((\"Precision for class %s: \" % str(class_entry+1)), value,  end =\", \")\n",
    "\n",
    "print()\n",
    "\n",
    "for class_entry,value in enumerate(f1s):\n",
    "    print((\"F1 for class %s: \" % str(class_entry+1)), value,  end =\", \")\n",
    "\n",
    "print()\n",
    "\n",
    "# Average\n",
    "recall_avg = recall_score(y_test, mnb_pred, average='macro')\n",
    "precision_avg = precision_score(y_test, mnb_pred, average='macro')\n",
    "f1_avg = f1_score(y_test, mnb_pred, average='macro')\n",
    "\n",
    "print(\"Recall Avg: \", recall_avg)\n",
    "print(\"Precision Avg: \", precision_avg)\n",
    "print(\"F1 Avg: \", f1_avg)"
   ]
  }
 ],
 "metadata": {
  "kernelspec": {
   "display_name": "544",
   "language": "python",
   "name": "544"
  },
  "language_info": {
   "codemirror_mode": {
    "name": "ipython",
    "version": 3
   },
   "file_extension": ".py",
   "mimetype": "text/x-python",
   "name": "python",
   "nbconvert_exporter": "python",
   "pygments_lexer": "ipython3",
   "version": "3.7.5"
  }
 },
 "nbformat": 4,
 "nbformat_minor": 4
}
